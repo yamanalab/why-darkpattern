{
 "cells": [
  {
   "cell_type": "code",
   "execution_count": 1,
   "metadata": {},
   "outputs": [],
   "source": [
    "import pandas as pd"
   ]
  },
  {
   "cell_type": "code",
   "execution_count": 2,
   "metadata": {},
   "outputs": [],
   "source": [
    "df = pd.read_csv(\"./wandb_export_2022-10-02T17_42_07.919+09_00.csv\")"
   ]
  },
  {
   "cell_type": "code",
   "execution_count": 3,
   "metadata": {},
   "outputs": [],
   "source": [
    "idx = df.groupby(\"pretrained\")[\"f1_score_average\"].transform(\"max\") == df[\"f1_score_average\"]"
   ]
  },
  {
   "cell_type": "code",
   "execution_count": 4,
   "metadata": {},
   "outputs": [],
   "source": [
    "df = df[idx][[\"pretrained\", \"accuracy_score_average\",\"roc_auc_score_average\",\"f1_score_average\",\"precision_score_average\",\"recall_score_average\",\"batch_size\",\"dropout\",\"epochs\",\"lr\",\"max_length\",\"start_factor\"]].sort_values(by=\"pretrained\", ascending=False)"
   ]
  },
  {
   "cell_type": "code",
   "execution_count": 5,
   "metadata": {},
   "outputs": [],
   "source": [
    "df = df.dropna(subset=['roc_auc_score_average'])"
   ]
  },
  {
   "cell_type": "code",
   "execution_count": 6,
   "metadata": {},
   "outputs": [],
   "source": [
    "df.to_csv(\"./result_nn.csv\", index=False)"
   ]
  },
  {
   "cell_type": "code",
   "execution_count": 3,
   "metadata": {},
   "outputs": [],
   "source": [
    "from const.path import DATASET_TSV_PATH\n",
    "import pandas as pd\n",
    "df = pd.read_csv(DATASET_TSV_PATH, sep=\"\\t\", encoding=\"utf-8\")"
   ]
  },
  {
   "cell_type": "code",
   "execution_count": 4,
   "metadata": {},
   "outputs": [
    {
     "data": {
      "text/plain": [
       "Index(['page_id', 'text', 'label', 'Pattern Category'], dtype='object')"
      ]
     },
     "execution_count": 4,
     "metadata": {},
     "output_type": "execute_result"
    }
   ],
   "source": [
    "df.columns"
   ]
  },
  {
   "cell_type": "code",
   "execution_count": 14,
   "metadata": {},
   "outputs": [],
   "source": [
    "av1 = 0.0\n",
    "for t in df[df.label == 1].text:\n",
    "    av1 += len(t.split(\" \"))\n",
    "    \n",
    "av1 /= len(df[df.label == 1])\n",
    "\n",
    "av0 = 0.0\n",
    "for t in df[df.label == 0].text:\n",
    "    av0 += len(t.split(\" \"))\n",
    "    \n",
    "av0 /= len(df[df.label == 0])"
   ]
  },
  {
   "cell_type": "code",
   "execution_count": 16,
   "metadata": {},
   "outputs": [
    {
     "name": "stdout",
     "output_type": "stream",
     "text": [
      "1 143\n",
      "1 117\n"
     ]
    }
   ],
   "source": [
    "min1,max1 = 100000000,-1\n",
    "for t in df[df.label == 1].text:\n",
    "    min1 = min(len(t.split(\" \")),min1)\n",
    "    max1 = max(len(t.split(\" \")),max1)\n",
    "    \n",
    "print(min1,max1)\n",
    "\n",
    "min0,max0 = 100000000,-1\n",
    "for t in df[df.label == 0].text:\n",
    "    min0 = min(len(t.split(\" \")),min0)\n",
    "    max0 = max(len(t.split(\" \")),max0)\n",
    "    \n",
    "print(min0,max0)"
   ]
  },
  {
   "cell_type": "code",
   "execution_count": null,
   "metadata": {},
   "outputs": [],
   "source": []
  }
 ],
 "metadata": {
  "kernelspec": {
   "display_name": "Python 3.8.6 ('.venv': poetry)",
   "language": "python",
   "name": "python3"
  },
  "language_info": {
   "codemirror_mode": {
    "name": "ipython",
    "version": 3
   },
   "file_extension": ".py",
   "mimetype": "text/x-python",
   "name": "python",
   "nbconvert_exporter": "python",
   "pygments_lexer": "ipython3",
   "version": "3.8.6"
  },
  "orig_nbformat": 4,
  "vscode": {
   "interpreter": {
    "hash": "72377970c1f2cd04a280deb0045402503422858e9b411389fcee476f356c5166"
   }
  }
 },
 "nbformat": 4,
 "nbformat_minor": 2
}
